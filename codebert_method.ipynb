{
 "cells": [
  {
   "cell_type": "code",
   "execution_count": 12,
   "id": "dac6964b-c47a-4b5f-8af9-5dfe3a9859b8",
   "metadata": {},
   "outputs": [],
   "source": [
    "import torch\n",
    "from transformers import AutoTokenizer, AutoModel\n",
    "\n",
    "from scipy.spatial.distance import cosine"
   ]
  },
  {
   "cell_type": "code",
   "execution_count": 2,
   "id": "b937a87d-a5bd-4dda-87c9-784f73e78e1c",
   "metadata": {},
   "outputs": [],
   "source": [
    "path = \"codebert-base/\""
   ]
  },
  {
   "cell_type": "code",
   "execution_count": 3,
   "id": "e41e364e-85ab-4efc-8726-a3c66f6e003e",
   "metadata": {},
   "outputs": [],
   "source": [
    "tokenizer = AutoTokenizer.from_pretrained(path, local_files_only=True)\n",
    "model = AutoModel.from_pretrained(path, local_files_only=True)"
   ]
  },
  {
   "cell_type": "code",
   "execution_count": 8,
   "id": "8329ed00-d4ee-43a9-a329-64f2fe67c9b3",
   "metadata": {},
   "outputs": [],
   "source": [
    "def get_code_embedding(code, tokenizer, model):\n",
    "    inputs = tokenizer(code, return_tensors='pt', padding=True, truncation=True)\n",
    "    outputs = model(**inputs)\n",
    "    embeddings = outputs.last_hidden_state[:, 0, :]\n",
    "    return embeddings"
   ]
  },
  {
   "cell_type": "code",
   "execution_count": 18,
   "id": "9f5a1b39-dc43-4bba-9f93-468f395c0d30",
   "metadata": {},
   "outputs": [],
   "source": [
    "def calculate_cosine_similarity(embedding1, embedding2):\n",
    "    embedding1 = embedding1.squeeze()\n",
    "    embedding2 = embedding2.squeeze()\n",
    "    return 1 - cosine(embedding1, embedding2)"
   ]
  },
  {
   "cell_type": "code",
   "execution_count": 28,
   "id": "04708016-b914-44da-8015-87772fc3ed26",
   "metadata": {},
   "outputs": [],
   "source": [
    "def code_similarity_match(candidate_list, patch_str):\n",
    "    tokenizer = AutoTokenizer.from_pretrained(path, local_files_only=True)\n",
    "    model = AutoModel.from_pretrained(path, local_files_only=True)\n",
    "\n",
    "    # convert patch_str to latent vectors/embeddings\n",
    "    target_embedding = get_code_embedding(patch_str, tokenizer, model)\n",
    "\n",
    "    code_similarities = []\n",
    "    for candidate_code in candidate_list:\n",
    "        # convert every candidate code to latent vectors/embeddings\n",
    "        candidate_embedding = get_code_embedding(candidate_code, tokenizer, model)\n",
    "        # calculate the distance(Cosine)\n",
    "        cosine_distance = calculate_cosine_similarity(candidate_embedding.detach().numpy(), target_embedding.detach().numpy())\n",
    "        code_similarities.append((candidate_code, cosine_distance))\n",
    "\n",
    "    code_similarities.sort(key=lambda x: x[1], reverse=True)\n",
    "    return code_similarities"
   ]
  },
  {
   "cell_type": "code",
   "execution_count": 31,
   "id": "3c44b4a3-836d-49c2-8a10-791ff7a42cb8",
   "metadata": {},
   "outputs": [],
   "source": [
    "candidate_list = [\n",
    "    \"int value = value2 / 10;\",\n",
    "    \"int value = value / 10;\",\n",
    "    \"double value = value % 10;\"\n",
    "]\n",
    "\n",
    "patch_str = \"int value = value % 10;\"\n",
    "\n",
    "sentence_similarities = code_similarity_match(candidate_list, patch_str)"
   ]
  },
  {
   "cell_type": "code",
   "execution_count": 32,
   "id": "7a4dd9ad-b5c8-4c0d-b44b-a5f0cf346d58",
   "metadata": {},
   "outputs": [
    {
     "data": {
      "text/plain": [
       "[('int value = value / 10;', 0.998833289629509),\n",
       " ('double value = value % 10;', 0.9980462673824129),\n",
       " ('int value = value2 / 10;', 0.9932692032065936)]"
      ]
     },
     "execution_count": 32,
     "metadata": {},
     "output_type": "execute_result"
    }
   ],
   "source": [
    "sentence_similarities"
   ]
  }
 ],
 "metadata": {
  "kernelspec": {
   "display_name": "Python 3 (ipykernel)",
   "language": "python",
   "name": "python3"
  },
  "language_info": {
   "codemirror_mode": {
    "name": "ipython",
    "version": 3
   },
   "file_extension": ".py",
   "mimetype": "text/x-python",
   "name": "python",
   "nbconvert_exporter": "python",
   "pygments_lexer": "ipython3",
   "version": "3.10.8"
  }
 },
 "nbformat": 4,
 "nbformat_minor": 5
}
